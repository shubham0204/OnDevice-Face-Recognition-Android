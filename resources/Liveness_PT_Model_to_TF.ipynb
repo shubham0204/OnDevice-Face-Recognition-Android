{
  "nbformat": 4,
  "nbformat_minor": 0,
  "metadata": {
    "colab": {
      "provenance": []
    },
    "kernelspec": {
      "name": "python3",
      "display_name": "Python 3"
    },
    "language_info": {
      "name": "python"
    }
  },
  "cells": [
    {
      "cell_type": "markdown",
      "source": [
        "# Converting PT models of `Silent-Face-Anti-Spoofing` to TensorFlow Lite\n",
        "\n",
        "We use the [deepface](https://github.com/serengil/deepface) package to access the PyTorch models and then use the [ai-edge-torch](https://github.com/google-ai-edge/ai-edge-torch/blob/main/docs/pytorch_converter/README.md) package to convert them to the TFLite format."
      ],
      "metadata": {
        "id": "1-00aYt-ZqDq"
      }
    },
    {
      "cell_type": "code",
      "execution_count": null,
      "metadata": {
        "id": "2nLUl5rQWAn-"
      },
      "outputs": [],
      "source": [
        "!pip install deepface\n",
        "!pip install ai-edge-torch"
      ]
    },
    {
      "cell_type": "code",
      "source": [
        "!mkdir -p /root/.deepface/weights"
      ],
      "metadata": {
        "id": "7rWvHjJtXZzz"
      },
      "execution_count": null,
      "outputs": []
    },
    {
      "cell_type": "code",
      "source": [
        "from deepface.models.spoofing.FasNet import Fasnet\n",
        "\n",
        "fasnet = Fasnet()\n",
        "print(type(fasnet.first_model))\n",
        "print(type(fasnet.second_model))"
      ],
      "metadata": {
        "id": "v8_B5of3WMHr"
      },
      "execution_count": null,
      "outputs": []
    },
    {
      "cell_type": "code",
      "source": [
        "import torch\n",
        "import ai_edge_torch\n",
        "\n",
        "sample_inputs = ( torch.randn(1, 80, 80, 3) , )\n",
        "model = ai_edge_torch.to_channel_last_io(fasnet.first_model.eval(), args=[0])\n",
        "edge_model = ai_edge_torch.convert(model, sample_inputs)\n",
        "edge_model.export(\"first_model.tflite\")"
      ],
      "metadata": {
        "id": "SyAbc8HUWbym"
      },
      "execution_count": null,
      "outputs": []
    },
    {
      "cell_type": "code",
      "source": [
        "sample_inputs = ( torch.randn(1, 80, 80, 3) , )\n",
        "model = ai_edge_torch.to_channel_last_io(fasnet.second_model.eval(), args=[0])\n",
        "edge_model = ai_edge_torch.convert(model, sample_inputs)\n",
        "edge_model.export(\"second_model.tflite\")"
      ],
      "metadata": {
        "id": "W8T-LwMqYFWx"
      },
      "execution_count": null,
      "outputs": []
    },
    {
      "cell_type": "code",
      "source": [
        "import tensorflow as tf\n",
        "import pprint\n",
        "\n",
        "interpreter = tf.lite.Interpreter(\"first_model.tflite\")\n",
        "interpreter.allocate_tensors()\n",
        "pprint.pprint(interpreter.get_input_details())\n",
        "pprint.pprint(interpreter.get_output_details())"
      ],
      "metadata": {
        "id": "saP14XAtYYLP"
      },
      "execution_count": null,
      "outputs": []
    },
    {
      "cell_type": "code",
      "source": [
        "import tensorflow as tf\n",
        "import pprint\n",
        "\n",
        "interpreter = tf.lite.Interpreter(\"second_model.tflite\")\n",
        "interpreter.allocate_tensors()\n",
        "pprint.pprint(interpreter.get_input_details())\n",
        "pprint.pprint(interpreter.get_output_details())"
      ],
      "metadata": {
        "id": "sM4H2eCOYo0y"
      },
      "execution_count": null,
      "outputs": []
    },
    {
      "cell_type": "code",
      "source": [
        "from google.colab import files\n",
        "\n",
        "files.download('first_model.tflite')\n",
        "files.download('second_model.tflite')"
      ],
      "metadata": {
        "id": "p8VzWsZYY95R"
      },
      "execution_count": null,
      "outputs": []
    }
  ]
}